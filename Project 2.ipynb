{
 "cells": [
  {
   "attachments": {},
   "cell_type": "markdown",
   "metadata": {},
   "source": [
    "# Assignment:\n",
    "- Using the approved dataset you proposed for project 2 part 1 last week, you will clean and explore the data set.\n",
    "\n",
    "- To meet the requirements for this week you must have:\n",
    "\n",
    "- [X] Deleted unnecessary columns.\n",
    "- [X] Deleted duplicate rows.\n",
    "- [X] Identified and addressed missing values.\n",
    "- [X] Identified and corrected inconsistencies in data for categorical values (i.e. Cat, cat, cats).\n",
    "- [ ] Produced univariate visuals for the target and all features.\n",
    "- [X] Identified outliers.\n",
    "- [ ] Clearly commented all of your cleaning steps and described any decisions you made."
   ]
  },
  {
   "attachments": {},
   "cell_type": "markdown",
   "metadata": {},
   "source": [
    "### Importing modules"
   ]
  },
  {
   "cell_type": "code",
   "execution_count": 2,
   "metadata": {},
   "outputs": [],
   "source": [
    "import pandas as pd\n",
    "import seaborn as sns\n",
    "import matplotlib.pyplot as plt"
   ]
  },
  {
   "cell_type": "code",
   "execution_count": 3,
   "metadata": {},
   "outputs": [
    {
     "data": {
      "text/html": [
       "<div>\n",
       "<style scoped>\n",
       "    .dataframe tbody tr th:only-of-type {\n",
       "        vertical-align: middle;\n",
       "    }\n",
       "\n",
       "    .dataframe tbody tr th {\n",
       "        vertical-align: top;\n",
       "    }\n",
       "\n",
       "    .dataframe thead th {\n",
       "        text-align: right;\n",
       "    }\n",
       "</style>\n",
       "<table border=\"1\" class=\"dataframe\">\n",
       "  <thead>\n",
       "    <tr style=\"text-align: right;\">\n",
       "      <th></th>\n",
       "      <th>Age</th>\n",
       "      <th>Sex</th>\n",
       "      <th>ChestPainType</th>\n",
       "      <th>RestingBP</th>\n",
       "      <th>Cholesterol</th>\n",
       "      <th>FastingBS</th>\n",
       "      <th>RestingECG</th>\n",
       "      <th>MaxHR</th>\n",
       "      <th>ExerciseAngina</th>\n",
       "      <th>Oldpeak</th>\n",
       "      <th>ST_Slope</th>\n",
       "      <th>HeartDisease</th>\n",
       "    </tr>\n",
       "  </thead>\n",
       "  <tbody>\n",
       "    <tr>\n",
       "      <th>0</th>\n",
       "      <td>40</td>\n",
       "      <td>M</td>\n",
       "      <td>ATA</td>\n",
       "      <td>140</td>\n",
       "      <td>289</td>\n",
       "      <td>0</td>\n",
       "      <td>Normal</td>\n",
       "      <td>172</td>\n",
       "      <td>N</td>\n",
       "      <td>0.0</td>\n",
       "      <td>Up</td>\n",
       "      <td>0</td>\n",
       "    </tr>\n",
       "    <tr>\n",
       "      <th>1</th>\n",
       "      <td>49</td>\n",
       "      <td>F</td>\n",
       "      <td>NAP</td>\n",
       "      <td>160</td>\n",
       "      <td>180</td>\n",
       "      <td>0</td>\n",
       "      <td>Normal</td>\n",
       "      <td>156</td>\n",
       "      <td>N</td>\n",
       "      <td>1.0</td>\n",
       "      <td>Flat</td>\n",
       "      <td>1</td>\n",
       "    </tr>\n",
       "    <tr>\n",
       "      <th>2</th>\n",
       "      <td>37</td>\n",
       "      <td>M</td>\n",
       "      <td>ATA</td>\n",
       "      <td>130</td>\n",
       "      <td>283</td>\n",
       "      <td>0</td>\n",
       "      <td>ST</td>\n",
       "      <td>98</td>\n",
       "      <td>N</td>\n",
       "      <td>0.0</td>\n",
       "      <td>Up</td>\n",
       "      <td>0</td>\n",
       "    </tr>\n",
       "    <tr>\n",
       "      <th>3</th>\n",
       "      <td>48</td>\n",
       "      <td>F</td>\n",
       "      <td>ASY</td>\n",
       "      <td>138</td>\n",
       "      <td>214</td>\n",
       "      <td>0</td>\n",
       "      <td>Normal</td>\n",
       "      <td>108</td>\n",
       "      <td>Y</td>\n",
       "      <td>1.5</td>\n",
       "      <td>Flat</td>\n",
       "      <td>1</td>\n",
       "    </tr>\n",
       "    <tr>\n",
       "      <th>4</th>\n",
       "      <td>54</td>\n",
       "      <td>M</td>\n",
       "      <td>NAP</td>\n",
       "      <td>150</td>\n",
       "      <td>195</td>\n",
       "      <td>0</td>\n",
       "      <td>Normal</td>\n",
       "      <td>122</td>\n",
       "      <td>N</td>\n",
       "      <td>0.0</td>\n",
       "      <td>Up</td>\n",
       "      <td>0</td>\n",
       "    </tr>\n",
       "  </tbody>\n",
       "</table>\n",
       "</div>"
      ],
      "text/plain": [
       "   Age Sex ChestPainType  RestingBP  Cholesterol  FastingBS RestingECG  MaxHR  \\\n",
       "0   40   M           ATA        140          289          0     Normal    172   \n",
       "1   49   F           NAP        160          180          0     Normal    156   \n",
       "2   37   M           ATA        130          283          0         ST     98   \n",
       "3   48   F           ASY        138          214          0     Normal    108   \n",
       "4   54   M           NAP        150          195          0     Normal    122   \n",
       "\n",
       "  ExerciseAngina  Oldpeak ST_Slope  HeartDisease  \n",
       "0              N      0.0       Up             0  \n",
       "1              N      1.0     Flat             1  \n",
       "2              N      0.0       Up             0  \n",
       "3              Y      1.5     Flat             1  \n",
       "4              N      0.0       Up             0  "
      ]
     },
     "execution_count": 3,
     "metadata": {},
     "output_type": "execute_result"
    }
   ],
   "source": [
    "df = pd.read_csv('heart.csv')\n",
    "df.head()"
   ]
  },
  {
   "cell_type": "code",
   "execution_count": 4,
   "metadata": {},
   "outputs": [
    {
     "name": "stdout",
     "output_type": "stream",
     "text": [
      "Rows and Column:\n",
      "(918, 12) \n",
      "\n",
      "Getting the described function information:\n",
      "              Age   RestingBP  Cholesterol   FastingBS       MaxHR  \\\n",
      "count  918.000000  918.000000   918.000000  918.000000  918.000000   \n",
      "mean    53.510893  132.396514   198.799564    0.233115  136.809368   \n",
      "std      9.432617   18.514154   109.384145    0.423046   25.460334   \n",
      "min     28.000000    0.000000     0.000000    0.000000   60.000000   \n",
      "25%     47.000000  120.000000   173.250000    0.000000  120.000000   \n",
      "50%     54.000000  130.000000   223.000000    0.000000  138.000000   \n",
      "75%     60.000000  140.000000   267.000000    0.000000  156.000000   \n",
      "max     77.000000  200.000000   603.000000    1.000000  202.000000   \n",
      "\n",
      "          Oldpeak  HeartDisease  \n",
      "count  918.000000    918.000000  \n",
      "mean     0.887364      0.553377  \n",
      "std      1.066570      0.497414  \n",
      "min     -2.600000      0.000000  \n",
      "25%      0.000000      0.000000  \n",
      "50%      0.600000      1.000000  \n",
      "75%      1.500000      1.000000  \n",
      "max      6.200000      1.000000   \n",
      "\n",
      "Getting the info() function information:\n",
      "<class 'pandas.core.frame.DataFrame'>\n",
      "RangeIndex: 918 entries, 0 to 917\n",
      "Data columns (total 12 columns):\n",
      " #   Column          Non-Null Count  Dtype  \n",
      "---  ------          --------------  -----  \n",
      " 0   Age             918 non-null    int64  \n",
      " 1   Sex             918 non-null    object \n",
      " 2   ChestPainType   918 non-null    object \n",
      " 3   RestingBP       918 non-null    int64  \n",
      " 4   Cholesterol     918 non-null    int64  \n",
      " 5   FastingBS       918 non-null    int64  \n",
      " 6   RestingECG      918 non-null    object \n",
      " 7   MaxHR           918 non-null    int64  \n",
      " 8   ExerciseAngina  918 non-null    object \n",
      " 9   Oldpeak         918 non-null    float64\n",
      " 10  ST_Slope        918 non-null    object \n",
      " 11  HeartDisease    918 non-null    int64  \n",
      "dtypes: float64(1), int64(6), object(5)\n",
      "memory usage: 86.2+ KB\n",
      "None\n"
     ]
    }
   ],
   "source": [
    "# This function will print all available information about the dataframe\n",
    "def print_df_info(df):\n",
    "    print(\"Rows and Column:\")\n",
    "    print(df.shape, '\\n')\n",
    "    print('Getting the described function information:')\n",
    "    print(df.describe(), '\\n')\n",
    "    print('Getting the info() function information:')\n",
    "    print(df.info())\n",
    "\n",
    "print_df_info(df)"
   ]
  },
  {
   "attachments": {},
   "cell_type": "markdown",
   "metadata": {},
   "source": [
    "- First, let seeing what the rows correlations to are target columns `HeartDisease'."
   ]
  },
  {
   "cell_type": "code",
   "execution_count": 5,
   "metadata": {},
   "outputs": [
    {
     "data": {
      "text/plain": [
       "<AxesSubplot:>"
      ]
     },
     "execution_count": 5,
     "metadata": {},
     "output_type": "execute_result"
    },
    {
     "data": {
      "image/png": "[encoded data removed]",
      "text/plain": [
       "<Figure size 640x480 with 2 Axes>"
      ]
     },
     "metadata": {},
     "output_type": "display_data"
    }
   ],
   "source": [
    "# Using .corr() to create a correlation matrix\n",
    "corr = df.corr()\n",
    "# Using seaborn library to create a heat map of df to see the correlations between target and features\n",
    "sns.heatmap(corr, annot=True)"
   ]
  },
  {
   "attachments": {},
   "cell_type": "markdown",
   "metadata": {},
   "source": [
    "In the graph above, the columns that has the worst correlation with our target variable would be column `'Cholesterol'`. Even though `MaxHR` has a negative correlation with `HeartDisease`, it has a strong negative correlation with `HeartDieases`, just like how `Oldpeak` has a strong correlation with `HeartDisease`."
   ]
  },
  {
   "attachments": {},
   "cell_type": "markdown",
   "metadata": {},
   "source": [
    "- Now I will drop Cholesterol since the column have the worst correlation to the target variable."
   ]
  },
  {
   "cell_type": "code",
   "execution_count": 6,
   "metadata": {},
   "outputs": [],
   "source": [
    "# Saving copy of dataframe incase of data leakage\n",
    "df_copy = df.copy()\n",
    "\n",
    "# Dropping unnecessary columns\n",
    "df_copy.drop(columns=\"Cholesterol\", inplace=True)"
   ]
  },
  {
   "cell_type": "code",
   "execution_count": 7,
   "metadata": {},
   "outputs": [
    {
     "data": {
      "text/html": [
       "<div>\n",
       "<style scoped>\n",
       "    .dataframe tbody tr th:only-of-type {\n",
       "        vertical-align: middle;\n",
       "    }\n",
       "\n",
       "    .dataframe tbody tr th {\n",
       "        vertical-align: top;\n",
       "    }\n",
       "\n",
       "    .dataframe thead th {\n",
       "        text-align: right;\n",
       "    }\n",
       "</style>\n",
       "<table border=\"1\" class=\"dataframe\">\n",
       "  <thead>\n",
       "    <tr style=\"text-align: right;\">\n",
       "      <th></th>\n",
       "      <th>Age</th>\n",
       "      <th>Sex</th>\n",
       "      <th>ChestPainType</th>\n",
       "      <th>RestingBP</th>\n",
       "      <th>FastingBS</th>\n",
       "      <th>RestingECG</th>\n",
       "      <th>MaxHR</th>\n",
       "      <th>ExerciseAngina</th>\n",
       "      <th>Oldpeak</th>\n",
       "      <th>ST_Slope</th>\n",
       "      <th>HeartDisease</th>\n",
       "    </tr>\n",
       "  </thead>\n",
       "  <tbody>\n",
       "    <tr>\n",
       "      <th>0</th>\n",
       "      <td>40</td>\n",
       "      <td>M</td>\n",
       "      <td>ATA</td>\n",
       "      <td>140</td>\n",
       "      <td>0</td>\n",
       "      <td>Normal</td>\n",
       "      <td>172</td>\n",
       "      <td>N</td>\n",
       "      <td>0.0</td>\n",
       "      <td>Up</td>\n",
       "      <td>0</td>\n",
       "    </tr>\n",
       "    <tr>\n",
       "      <th>1</th>\n",
       "      <td>49</td>\n",
       "      <td>F</td>\n",
       "      <td>NAP</td>\n",
       "      <td>160</td>\n",
       "      <td>0</td>\n",
       "      <td>Normal</td>\n",
       "      <td>156</td>\n",
       "      <td>N</td>\n",
       "      <td>1.0</td>\n",
       "      <td>Flat</td>\n",
       "      <td>1</td>\n",
       "    </tr>\n",
       "    <tr>\n",
       "      <th>2</th>\n",
       "      <td>37</td>\n",
       "      <td>M</td>\n",
       "      <td>ATA</td>\n",
       "      <td>130</td>\n",
       "      <td>0</td>\n",
       "      <td>ST</td>\n",
       "      <td>98</td>\n",
       "      <td>N</td>\n",
       "      <td>0.0</td>\n",
       "      <td>Up</td>\n",
       "      <td>0</td>\n",
       "    </tr>\n",
       "    <tr>\n",
       "      <th>3</th>\n",
       "      <td>48</td>\n",
       "      <td>F</td>\n",
       "      <td>ASY</td>\n",
       "      <td>138</td>\n",
       "      <td>0</td>\n",
       "      <td>Normal</td>\n",
       "      <td>108</td>\n",
       "      <td>Y</td>\n",
       "      <td>1.5</td>\n",
       "      <td>Flat</td>\n",
       "      <td>1</td>\n",
       "    </tr>\n",
       "    <tr>\n",
       "      <th>4</th>\n",
       "      <td>54</td>\n",
       "      <td>M</td>\n",
       "      <td>NAP</td>\n",
       "      <td>150</td>\n",
       "      <td>0</td>\n",
       "      <td>Normal</td>\n",
       "      <td>122</td>\n",
       "      <td>N</td>\n",
       "      <td>0.0</td>\n",
       "      <td>Up</td>\n",
       "      <td>0</td>\n",
       "    </tr>\n",
       "  </tbody>\n",
       "</table>\n",
       "</div>"
      ],
      "text/plain": [
       "   Age Sex ChestPainType  RestingBP  FastingBS RestingECG  MaxHR  \\\n",
       "0   40   M           ATA        140          0     Normal    172   \n",
       "1   49   F           NAP        160          0     Normal    156   \n",
       "2   37   M           ATA        130          0         ST     98   \n",
       "3   48   F           ASY        138          0     Normal    108   \n",
       "4   54   M           NAP        150          0     Normal    122   \n",
       "\n",
       "  ExerciseAngina  Oldpeak ST_Slope  HeartDisease  \n",
       "0              N      0.0       Up             0  \n",
       "1              N      1.0     Flat             1  \n",
       "2              N      0.0       Up             0  \n",
       "3              Y      1.5     Flat             1  \n",
       "4              N      0.0       Up             0  "
      ]
     },
     "execution_count": 7,
     "metadata": {},
     "output_type": "execute_result"
    }
   ],
   "source": [
    "# viewing dataframe to see if changes were made\n",
    "df_copy.head()"
   ]
  },
  {
   "attachments": {},
   "cell_type": "markdown",
   "metadata": {},
   "source": [
    "Now, I will check for duplicated rows in the dataset."
   ]
  },
  {
   "cell_type": "code",
   "execution_count": 8,
   "metadata": {},
   "outputs": [
    {
     "data": {
      "text/plain": [
       "0"
      ]
     },
     "execution_count": 8,
     "metadata": {},
     "output_type": "execute_result"
    }
   ],
   "source": [
    "# Checking for duplicate rows\n",
    "df_copy.duplicated().sum()"
   ]
  },
  {
   "attachments": {},
   "cell_type": "markdown",
   "metadata": {},
   "source": [
    "Next, I will check for any missing values in this dataset."
   ]
  },
  {
   "cell_type": "code",
   "execution_count": 9,
   "metadata": {},
   "outputs": [
    {
     "data": {
      "text/plain": [
       "Age               0\n",
       "Sex               0\n",
       "ChestPainType     0\n",
       "RestingBP         0\n",
       "FastingBS         0\n",
       "RestingECG        0\n",
       "MaxHR             0\n",
       "ExerciseAngina    0\n",
       "Oldpeak           0\n",
       "ST_Slope          0\n",
       "HeartDisease      0\n",
       "dtype: int64"
      ]
     },
     "execution_count": 9,
     "metadata": {},
     "output_type": "execute_result"
    }
   ],
   "source": [
    "# Checking for null values in rows and columns\n",
    "df_copy.isna().sum()"
   ]
  },
  {
   "attachments": {},
   "cell_type": "markdown",
   "metadata": {},
   "source": [
    "- To make sure that the data does not contain any outliers or inconsistencies. I will run the following code:"
   ]
  },
  {
   "cell_type": "code",
   "execution_count": 10,
   "metadata": {},
   "outputs": [
    {
     "name": "stdout",
     "output_type": "stream",
     "text": [
      "Max\n",
      "This is the max value: Age                77\n",
      "Sex                 M\n",
      "ChestPainType      TA\n",
      "RestingBP         200\n",
      "FastingBS           1\n",
      "RestingECG         ST\n",
      "MaxHR             202\n",
      "ExerciseAngina      Y\n",
      "Oldpeak           6.2\n",
      "ST_Slope           Up\n",
      "HeartDisease        1\n",
      "dtype: object\n",
      "\n",
      "Min\n",
      "This is the min value: Age                 28\n",
      "Sex                  F\n",
      "ChestPainType      ASY\n",
      "RestingBP            0\n",
      "FastingBS            0\n",
      "RestingECG         LVH\n",
      "MaxHR               60\n",
      "ExerciseAngina       N\n",
      "Oldpeak           -2.6\n",
      "ST_Slope          Down\n",
      "HeartDisease         0\n",
      "dtype: object\n"
     ]
    }
   ],
   "source": [
    "# Printing the max of every column in df\n",
    "print(f'Max\\nThis is the max value: {df_copy.max()}\\n')\n",
    "# Creating the min of every column in df\n",
    "print(f'Min\\nThis is the min value: {df_copy.min()}')"
   ]
  },
  {
   "attachments": {},
   "cell_type": "markdown",
   "metadata": {},
   "source": [
    "Printing the max and min values of df will tell me if we have any rows that are extreme outliers. I concluded that there aren't any rows with extreme outliers."
   ]
  },
  {
   "cell_type": "code",
   "execution_count": 11,
   "metadata": {},
   "outputs": [
    {
     "name": "stdout",
     "output_type": "stream",
     "text": [
      "Age\n",
      "54    51\n",
      "58    42\n",
      "55    41\n",
      "56    38\n",
      "57    38\n",
      "52    36\n",
      "51    35\n",
      "59    35\n",
      "62    35\n",
      "53    33\n",
      "60    32\n",
      "48    31\n",
      "61    31\n",
      "63    30\n",
      "50    25\n",
      "46    24\n",
      "41    24\n",
      "43    24\n",
      "64    22\n",
      "65    21\n",
      "49    21\n",
      "47    19\n",
      "44    19\n",
      "42    18\n",
      "45    18\n",
      "38    16\n",
      "67    15\n",
      "39    15\n",
      "66    13\n",
      "69    13\n",
      "40    13\n",
      "35    11\n",
      "37    11\n",
      "68    10\n",
      "34     7\n",
      "74     7\n",
      "70     7\n",
      "36     6\n",
      "71     5\n",
      "32     5\n",
      "72     4\n",
      "29     3\n",
      "75     3\n",
      "33     2\n",
      "77     2\n",
      "76     2\n",
      "31     2\n",
      "30     1\n",
      "28     1\n",
      "73     1\n",
      "Name: Age, dtype: int64\n",
      "Sex\n",
      "M    725\n",
      "F    193\n",
      "Name: Sex, dtype: int64\n",
      "ChestPainType\n",
      "ASY    496\n",
      "NAP    203\n",
      "ATA    173\n",
      "TA      46\n",
      "Name: ChestPainType, dtype: int64\n",
      "RestingBP\n",
      "120    132\n",
      "130    118\n",
      "140    107\n",
      "110     58\n",
      "150     55\n",
      "      ... \n",
      "185      1\n",
      "98       1\n",
      "92       1\n",
      "113      1\n",
      "164      1\n",
      "Name: RestingBP, Length: 67, dtype: int64\n",
      "FastingBS\n",
      "0    704\n",
      "1    214\n",
      "Name: FastingBS, dtype: int64\n",
      "RestingECG\n",
      "Normal    552\n",
      "LVH       188\n",
      "ST        178\n",
      "Name: RestingECG, dtype: int64\n",
      "MaxHR\n",
      "150    43\n",
      "140    41\n",
      "120    36\n",
      "130    33\n",
      "160    25\n",
      "       ..\n",
      "63      1\n",
      "83      1\n",
      "60      1\n",
      "78      1\n",
      "202     1\n",
      "Name: MaxHR, Length: 119, dtype: int64\n",
      "ExerciseAngina\n",
      "N    547\n",
      "Y    371\n",
      "Name: ExerciseAngina, dtype: int64\n",
      "Oldpeak\n",
      " 0.0    368\n",
      " 1.0     86\n",
      " 2.0     76\n",
      " 1.5     53\n",
      " 3.0     28\n",
      " 1.2     26\n",
      " 0.2     22\n",
      " 0.5     19\n",
      " 1.4     18\n",
      " 1.8     17\n",
      " 2.5     16\n",
      " 0.8     16\n",
      " 1.6     16\n",
      " 0.1     14\n",
      " 0.6     14\n",
      " 0.4     11\n",
      " 0.3     11\n",
      " 4.0      8\n",
      " 0.7      7\n",
      " 2.8      7\n",
      " 1.9      7\n",
      " 1.3      7\n",
      " 2.6      7\n",
      " 1.1      7\n",
      " 1.7      6\n",
      " 2.2      5\n",
      " 0.9      4\n",
      " 2.4      4\n",
      " 3.6      4\n",
      " 3.4      3\n",
      " 4.2      2\n",
      " 3.5      2\n",
      "-0.5      2\n",
      " 2.3      2\n",
      " 3.2      2\n",
      " 2.1      2\n",
      "-1.0      2\n",
      "-0.1      2\n",
      " 5.6      1\n",
      " 2.9      1\n",
      " 6.2      1\n",
      " 3.8      1\n",
      "-1.5      1\n",
      " 3.1      1\n",
      "-2.0      1\n",
      " 3.7      1\n",
      "-0.8      1\n",
      "-0.7      1\n",
      "-1.1      1\n",
      "-2.6      1\n",
      "-0.9      1\n",
      " 5.0      1\n",
      " 4.4      1\n",
      "Name: Oldpeak, dtype: int64\n",
      "ST_Slope\n",
      "Flat    460\n",
      "Up      395\n",
      "Down     63\n",
      "Name: ST_Slope, dtype: int64\n",
      "HeartDisease\n",
      "1    508\n",
      "0    410\n",
      "Name: HeartDisease, dtype: int64\n"
     ]
    }
   ],
   "source": [
    "for i in df_copy.columns:\n",
    "    print(i)\n",
    "    print(df[i].value_counts())"
   ]
  },
  {
   "attachments": {},
   "cell_type": "markdown",
   "metadata": {},
   "source": [
    "- It appears that there are no inconsistencies in the catergorical or numerical data."
   ]
  },
  {
   "cell_type": "code",
   "execution_count": 33,
   "metadata": {},
   "outputs": [
    {
     "data": {
      "image/png": "[encoded data removed]",
      "text/plain": [
       "<Figure size 640x480 with 1 Axes>"
      ]
     },
     "metadata": {},
     "output_type": "display_data"
    }
   ],
   "source": [
    "# Using with plt.style.context to format only this histsgram\n",
    "with plt.style.context(['seaborn-muted', 'dark_background']):\n",
    "    # Plotting histogram with seaborns histplot\n",
    "    ax = sns.histplot(data=df_copy, x=df['Sex'], hue=df['Sex'], legend=True, palette='icefire', zorder=3)\n",
    "    # setting xlabel for histogram\n",
    "    plt.xlabel('Sex of patients', fontsize=16)\n",
    "    # setting ylabel for histogram\n",
    "    plt.ylabel('Count of patients by Sex', fontsize=16)\n",
    "    # Creating title for histogram\n",
    "    plt.title('Distrobution Counts by Sex', fontsize=25)\n",
    "    # Creating legend for histogram\n",
    "    sns.move_legend(bbox_to_anchor=(1, 1), loc=2, obj=ax)\n",
    "    plt.tight_layout()"
   ]
  },
  {
   "cell_type": "code",
   "execution_count": 13,
   "metadata": {},
   "outputs": [
    {
     "data": {
      "image/png": "[encoded data removed]",
      "text/plain": [
       "<Figure size 640x480 with 1 Axes>"
      ]
     },
     "metadata": {},
     "output_type": "display_data"
    }
   ],
   "source": [
    "with plt.style.context(['seaborn-muted']):\n",
    "    sns.boxplot(data=df_copy)"
   ]
  }
 ],
 "metadata": {
  "kernelspec": {
   "display_name": "Python 3",
   "language": "python",
   "name": "python3"
  },
  "language_info": {
   "codemirror_mode": {
    "name": "ipython",
    "version": 3
   },
   "file_extension": ".py",
   "mimetype": "text/x-python",
   "name": "python",
   "nbconvert_exporter": "python",
   "pygments_lexer": "ipython3",
   "version": "3.9.13"
  },
  "orig_nbformat": 4,
  "vscode": {
   "interpreter": {
    "hash": "48cf4348219c3ab1ead58f7e0a62f92281d5c6fe8aba13a26eacf1fef90ff667"
   }
  }
 },
 "nbformat": 4,
 "nbformat_minor": 2
}
